{
 "cells": [
  {
   "cell_type": "code",
   "execution_count": 3,
   "metadata": {},
   "outputs": [
    {
     "name": "stdout",
     "output_type": "stream",
     "text": [
      "Testing is_prime function:\n",
      "2 is prime\n",
      "3 is prime\n",
      "4 is not prime\n",
      "5 is prime\n",
      "7 is prime\n",
      "10 is not prime\n",
      "11 is prime\n",
      "13 is prime\n",
      "17 is prime\n",
      "20 is not prime\n",
      "\n",
      "First 10 prime numbers:\n",
      "[2, 3, 5, 7, 11, 13, 17, 19, 23, 29]\n"
     ]
    }
   ],
   "source": [
    "def is_prime(n):\n",
    "    \"\"\"\n",
    "    Check if a number is prime.\n",
    "    \n",
    "    Args:\n",
    "        n (int): The number to check\n",
    "    Returns:\n",
    "        bool: True if the number is prime, False otherwise\n",
    "    \"\"\"\n",
    "    # Handle special cases\n",
    "    if n < 2:\n",
    "        return False\n",
    "    if n == 2:\n",
    "        return True\n",
    "    if n % 2 == 0:\n",
    "        return False\n",
    "    \n",
    "    # Check for divisibility up to square root of n\n",
    "    for i in range(3, int(n ** 0.5) + 1, 2):\n",
    "        if n % i == 0:\n",
    "            return False\n",
    "    return True\n",
    "\n",
    "def get_primes_up_to(limit):\n",
    "    \"\"\"\n",
    "    Generate a list of prime numbers up to the given limit.\n",
    "    \n",
    "    Args:\n",
    "        limit (int): Upper bound for generating prime numbers\n",
    "    Returns:\n",
    "        list: List of prime numbers up to the limit\n",
    "    \"\"\"\n",
    "    primes = []\n",
    "    for num in range(2, limit + 1):\n",
    "        if is_prime(num):\n",
    "            primes.append(num)\n",
    "    return primes\n",
    "\n",
    "# Example usage\n",
    "print(\"Testing is_prime function:\")\n",
    "test_numbers = [2, 3, 4, 5, 7, 10, 11, 13, 17, 20]\n",
    "for num in test_numbers:\n",
    "    print(f\"{num} is{' ' if is_prime(num) else ' not '}prime\")\n",
    "\n",
    "print(\"\\nFirst 10 prime numbers:\")\n",
    "first_primes = get_primes_up_to(30)\n",
    "print(first_primes)"
   ]
  },
  {
   "cell_type": "code",
   "execution_count": 2,
   "metadata": {},
   "outputs": [],
   "source": [
    "import pandas as pd"
   ]
  },
  {
   "cell_type": "code",
   "execution_count": null,
   "metadata": {},
   "outputs": [],
   "source": [
    "2+2"
   ]
  }
 ],
 "metadata": {
  "kernelspec": {
   "display_name": "Python 3 (ipykernel)",
   "language": "python",
   "name": "python3"
  },
  "language_info": {
   "codemirror_mode": {
    "name": "ipython",
    "version": 3
   },
   "file_extension": ".py",
   "mimetype": "text/x-python",
   "name": "python",
   "nbconvert_exporter": "python",
   "pygments_lexer": "ipython3",
   "version": "3.10.7"
  }
 },
 "nbformat": 4,
 "nbformat_minor": 2
}
